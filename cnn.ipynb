{
 "cells": [
  {
   "cell_type": "markdown",
   "id": "570e9f28",
   "metadata": {},
   "source": [
    "# CNN"
   ]
  },
  {
   "cell_type": "code",
   "execution_count": 86,
   "id": "f80c1893",
   "metadata": {},
   "outputs": [],
   "source": [
    "from sklearn.model_selection import train_test_split\n",
    "import tensorflow as tf\n",
    "from tensorflow.keras import layers, models\n",
    "import matplotlib.pyplot as plt\n",
    "import numpy as np\n",
    "from PIL import Image\n",
    "\n",
    "from src.util import load_star_galaxy_dataset as load_dataset"
   ]
  },
  {
   "cell_type": "code",
   "execution_count": 87,
   "id": "dbe1af48",
   "metadata": {},
   "outputs": [
    {
     "name": "stdout",
     "output_type": "stream",
     "text": [
      "This is a simple dataset consisting of ~3000 64x64 images of stars and ~1000 images of galaxies. The images were captured by the in-house 1.3m telescope of the observatory situated in Devasthal, Nainital, India.\n"
     ]
    }
   ],
   "source": [
    "sg = load_dataset()\n",
    "print(sg.DESCR)\n",
    "\n",
    "X_train, X_test, y_train, y_test = train_test_split(sg.image / 255.0, sg.target)"
   ]
  },
  {
   "cell_type": "code",
   "execution_count": 88,
   "id": "2d592a65",
   "metadata": {},
   "outputs": [],
   "source": [
    "model = models.Sequential()\n",
    "model.add(layers.Conv2D(32, (3, 3), activation='relu', input_shape=(64, 64, 1)))\n",
    "model.add(layers.MaxPooling2D((2, 2)))\n",
    "model.add(layers.Conv2D(64, (3, 3), activation='relu'))\n",
    "model.add(layers.MaxPooling2D((2, 2)))\n",
    "model.add(layers.Conv2D(64, (3, 3), activation='relu'))"
   ]
  },
  {
   "cell_type": "code",
   "execution_count": 89,
   "id": "95b698e5",
   "metadata": {},
   "outputs": [
    {
     "name": "stdout",
     "output_type": "stream",
     "text": [
      "Model: \"sequential_4\"\n",
      "_________________________________________________________________\n",
      " Layer (type)                Output Shape              Param #   \n",
      "=================================================================\n",
      " conv2d_12 (Conv2D)          (None, 62, 62, 32)        320       \n",
      "                                                                 \n",
      " max_pooling2d_8 (MaxPooling  (None, 31, 31, 32)       0         \n",
      " 2D)                                                             \n",
      "                                                                 \n",
      " conv2d_13 (Conv2D)          (None, 29, 29, 64)        18496     \n",
      "                                                                 \n",
      " max_pooling2d_9 (MaxPooling  (None, 14, 14, 64)       0         \n",
      " 2D)                                                             \n",
      "                                                                 \n",
      " conv2d_14 (Conv2D)          (None, 12, 12, 64)        36928     \n",
      "                                                                 \n",
      "=================================================================\n",
      "Total params: 55,744\n",
      "Trainable params: 55,744\n",
      "Non-trainable params: 0\n",
      "_________________________________________________________________\n"
     ]
    }
   ],
   "source": [
    "model.summary()"
   ]
  },
  {
   "cell_type": "code",
   "execution_count": 90,
   "id": "cf9af5e2",
   "metadata": {},
   "outputs": [],
   "source": [
    "model.add(layers.Flatten())\n",
    "model.add(layers.Dense(64, activation='relu'))\n",
    "model.add(layers.Dense(10))"
   ]
  },
  {
   "cell_type": "code",
   "execution_count": 91,
   "id": "cd1c4cef",
   "metadata": {},
   "outputs": [
    {
     "name": "stdout",
     "output_type": "stream",
     "text": [
      "Model: \"sequential_4\"\n",
      "_________________________________________________________________\n",
      " Layer (type)                Output Shape              Param #   \n",
      "=================================================================\n",
      " conv2d_12 (Conv2D)          (None, 62, 62, 32)        320       \n",
      "                                                                 \n",
      " max_pooling2d_8 (MaxPooling  (None, 31, 31, 32)       0         \n",
      " 2D)                                                             \n",
      "                                                                 \n",
      " conv2d_13 (Conv2D)          (None, 29, 29, 64)        18496     \n",
      "                                                                 \n",
      " max_pooling2d_9 (MaxPooling  (None, 14, 14, 64)       0         \n",
      " 2D)                                                             \n",
      "                                                                 \n",
      " conv2d_14 (Conv2D)          (None, 12, 12, 64)        36928     \n",
      "                                                                 \n",
      " flatten_3 (Flatten)         (None, 9216)              0         \n",
      "                                                                 \n",
      " dense_6 (Dense)             (None, 64)                589888    \n",
      "                                                                 \n",
      " dense_7 (Dense)             (None, 10)                650       \n",
      "                                                                 \n",
      "=================================================================\n",
      "Total params: 646,282\n",
      "Trainable params: 646,282\n",
      "Non-trainable params: 0\n",
      "_________________________________________________________________\n"
     ]
    }
   ],
   "source": [
    "model.summary()"
   ]
  },
  {
   "cell_type": "code",
   "execution_count": 92,
   "id": "9008a716",
   "metadata": {},
   "outputs": [
    {
     "name": "stdout",
     "output_type": "stream",
     "text": [
      "Epoch 1/10\n",
      "94/94 [==============================] - 19s 195ms/step - loss: 0.6391 - accuracy: 0.7571 - val_loss: 0.5642 - val_accuracy: 0.7583\n",
      "Epoch 2/10\n",
      "94/94 [==============================] - 16s 171ms/step - loss: 0.5462 - accuracy: 0.7655 - val_loss: 0.5407 - val_accuracy: 0.7583\n",
      "Epoch 3/10\n",
      "94/94 [==============================] - 18s 187ms/step - loss: 0.5117 - accuracy: 0.7655 - val_loss: 0.4362 - val_accuracy: 0.7944\n",
      "Epoch 4/10\n",
      "94/94 [==============================] - 17s 178ms/step - loss: 0.4476 - accuracy: 0.7845 - val_loss: 0.4503 - val_accuracy: 0.7573\n",
      "Epoch 5/10\n",
      "94/94 [==============================] - 16s 172ms/step - loss: 0.3705 - accuracy: 0.8347 - val_loss: 0.3389 - val_accuracy: 0.8566\n",
      "Epoch 6/10\n",
      "94/94 [==============================] - 16s 169ms/step - loss: 0.3278 - accuracy: 0.8548 - val_loss: 0.3040 - val_accuracy: 0.8806\n",
      "Epoch 7/10\n",
      "94/94 [==============================] - 16s 168ms/step - loss: 0.3017 - accuracy: 0.8709 - val_loss: 0.2994 - val_accuracy: 0.8897\n",
      "Epoch 8/10\n",
      "94/94 [==============================] - 17s 181ms/step - loss: 0.2991 - accuracy: 0.8749 - val_loss: 0.2957 - val_accuracy: 0.8897\n",
      "Epoch 9/10\n",
      "94/94 [==============================] - 16s 171ms/step - loss: 0.2810 - accuracy: 0.8806 - val_loss: 0.2941 - val_accuracy: 0.8857\n",
      "Epoch 10/10\n",
      "94/94 [==============================] - 18s 187ms/step - loss: 0.2748 - accuracy: 0.8812 - val_loss: 0.3177 - val_accuracy: 0.8746\n"
     ]
    }
   ],
   "source": [
    "model.compile(\n",
    "    optimizer='adam',\n",
    "    loss=tf.keras.losses.SparseCategoricalCrossentropy(from_logits=True),\n",
    "    metrics=['accuracy'],\n",
    ")\n",
    "\n",
    "history = model.fit(\n",
    "    X_train,\n",
    "    y_train,\n",
    "    epochs=10,\n",
    "    validation_data=(X_test, y_test),\n",
    ")"
   ]
  },
  {
   "cell_type": "code",
   "execution_count": 97,
   "id": "7e5697bc",
   "metadata": {},
   "outputs": [
    {
     "name": "stdout",
     "output_type": "stream",
     "text": [
      "94/94 - 3s - loss: 0.2761 - accuracy: 0.9013 - 3s/epoch - 33ms/step\n",
      "32/32 - 1s - loss: 0.3177 - accuracy: 0.8746 - 1s/epoch - 33ms/step\n"
     ]
    },
    {
     "data": {
      "image/png": "[encoded data removed]",
      "text/plain": [
       "<Figure size 640x480 with 1 Axes>"
      ]
     },
     "metadata": {},
     "output_type": "display_data"
    }
   ],
   "source": [
    "plt.plot(history.history['accuracy'], label='accuracy')\n",
    "plt.plot(history.history['val_accuracy'], label = 'val_accuracy')\n",
    "plt.xlabel('Epoch')\n",
    "plt.ylabel('Accuracy')\n",
    "plt.ylim([0.5, 1])\n",
    "plt.legend(loc='lower right')\n",
    "\n",
    "test_loss, test_acc = model.evaluate(X_train, y_train, verbose=2)\n",
    "test_loss, test_acc = model.evaluate(X_test, y_test, verbose=2)"
   ]
  },
  {
   "cell_type": "code",
   "execution_count": 94,
   "id": "52845f2a",
   "metadata": {},
   "outputs": [
    {
     "name": "stdout",
     "output_type": "stream",
     "text": [
      "0.8746238946914673\n"
     ]
    }
   ],
   "source": [
    "print(test_acc)"
   ]
  },
  {
   "cell_type": "code",
   "execution_count": 95,
   "id": "76d378ae",
   "metadata": {},
   "outputs": [
    {
     "name": "stdout",
     "output_type": "stream",
     "text": [
      "8/8 - 0s - loss: 0.5464 - accuracy: 0.8008 - 273ms/epoch - 34ms/step\n",
      "0.8008298873901367\n"
     ]
    }
   ],
   "source": [
    "test_loss, test_acc = model.evaluate(\n",
    "    np.asarray([X_test[i] for i in range(len(X_test)) if sg.target_names[y_test[i]] == \"galaxy\"]),\n",
    "    np.asarray([y_test[i] for i in range(len(y_test)) if sg.target_names[y_test[i]] == \"galaxy\"]),\n",
    "    verbose=2,\n",
    ")\n",
    "\n",
    "print(test_acc)"
   ]
  },
  {
   "cell_type": "code",
   "execution_count": 96,
   "id": "4d8c5b9d",
   "metadata": {},
   "outputs": [
    {
     "name": "stdout",
     "output_type": "stream",
     "text": [
      "24/24 - 1s - loss: 0.2448 - accuracy: 0.8981 - 648ms/epoch - 27ms/step\n",
      "0.8981481194496155\n"
     ]
    }
   ],
   "source": [
    "test_loss, test_acc = model.evaluate(\n",
    "    np.asarray([X_test[i] for i in range(len(X_test)) if sg.target_names[y_test[i]] == \"star\"]),\n",
    "    np.asarray([y_test[i] for i in range(len(y_test)) if sg.target_names[y_test[i]] == \"star\"]),\n",
    "    verbose=2,\n",
    ")\n",
    "\n",
    "print(test_acc)"
   ]
  }
 ],
 "metadata": {
  "kernelspec": {
   "display_name": "Python 3 (ipykernel)",
   "language": "python",
   "name": "python3"
  },
  "language_info": {
   "codemirror_mode": {
    "name": "ipython",
    "version": 3
   },
   "file_extension": ".py",
   "mimetype": "text/x-python",
   "name": "python",
   "nbconvert_exporter": "python",
   "pygments_lexer": "ipython3",
   "version": "3.10.10"
  }
 },
 "nbformat": 4,
 "nbformat_minor": 5
}
